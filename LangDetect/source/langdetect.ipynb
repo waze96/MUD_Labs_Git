{
 "cells": [
  {
   "attachments": {},
   "cell_type": "markdown",
   "metadata": {},
   "source": [
    "# Imports"
   ]
  },
  {
   "cell_type": "code",
   "execution_count": 58,
   "metadata": {},
   "outputs": [],
   "source": [
    "import argparse\n",
    "import pandas as pd\n",
    "from sklearn.model_selection import train_test_split\n",
    "import random\n",
    "from utils import *\n",
    "from classifiers import *\n",
    "from preprocess import  preprocess\n",
    "\n",
    "import matplotlib.pyplot as plt\n"
   ]
  },
  {
   "cell_type": "code",
   "execution_count": 59,
   "metadata": {},
   "outputs": [],
   "source": [
    "seed = 42\n",
    "random.seed(seed)\n",
    "analyzer = 'char'\n",
    "raw = pd.read_csv('C:/Users/jordi/Documents/GitHub/MUD_Labs_Git/LangDetect/data/dataset.csv')\n",
    "voc_size = 1"
   ]
  },
  {
   "attachments": {},
   "cell_type": "markdown",
   "metadata": {},
   "source": [
    "# Split"
   ]
  },
  {
   "cell_type": "code",
   "execution_count": 93,
   "metadata": {},
   "outputs": [],
   "source": [
    "# list with all the languages (unique)\n",
    "languages = set(raw['language']) \n",
    "\n",
    "# Split Train and Test sets\n",
    "X=raw['Text']\n",
    "y=raw['language']\n",
    "X_train, X_test, y_train, y_test = train_test_split(X, y, test_size=0.2, random_state=seed)\n"
   ]
  },
  {
   "cell_type": "code",
   "execution_count": 94,
   "metadata": {},
   "outputs": [],
   "source": [
    "x_test_raw_2 = X_test"
   ]
  },
  {
   "cell_type": "code",
   "execution_count": 61,
   "metadata": {},
   "outputs": [
    {
     "name": "stdout",
     "output_type": "stream",
     "text": [
      "17600 4400\n"
     ]
    }
   ],
   "source": [
    "print(len(X_train), len(X_test))"
   ]
  },
  {
   "cell_type": "code",
   "execution_count": 62,
   "metadata": {},
   "outputs": [],
   "source": [
    "# raw['language'].value_counts().plot(kind='pie', autopct='%1.0f%%', figsize=(10, 10))"
   ]
  },
  {
   "attachments": {},
   "cell_type": "markdown",
   "metadata": {},
   "source": [
    "# Procesar words"
   ]
  },
  {
   "cell_type": "code",
   "execution_count": 63,
   "metadata": {},
   "outputs": [],
   "source": [
    "# Preprocess text (Word granularity only)\n",
    "if analyzer == 'word':\n",
    "    X_train, y_train = preprocess(X_train,y_train)\n",
    "    X_test, y_test = preprocess(X_test,y_test)"
   ]
  },
  {
   "attachments": {},
   "cell_type": "markdown",
   "metadata": {},
   "source": [
    "# Procesar features"
   ]
  },
  {
   "cell_type": "code",
   "execution_count": 64,
   "metadata": {},
   "outputs": [
    {
     "name": "stdout",
     "output_type": "stream",
     "text": [
      "500\n"
     ]
    },
    {
     "name": "stderr",
     "output_type": "stream",
     "text": [
      "c:\\Users\\jordi\\AppData\\Local\\Programs\\Python\\Python39\\lib\\site-packages\\sklearn\\utils\\deprecation.py:87: FutureWarning: Function get_feature_names is deprecated; get_feature_names is deprecated in 1.0 and will be removed in 1.2. Please use get_feature_names_out instead.\n",
      "  warnings.warn(msg, category=FutureWarning)\n"
     ]
    }
   ],
   "source": [
    "unigramVectorizer = CountVectorizer(analyzer='char',max_features=500,ngram_range=(1,1))\n",
    "X_unigram_train_raw = unigramVectorizer.fit_transform(X_train)\n",
    "X_unigram_test_raw = unigramVectorizer.transform(X_test)\n",
    "unigramFeatures = unigramVectorizer.get_feature_names()\n",
    "print(len(unigramFeatures))"
   ]
  },
  {
   "cell_type": "code",
   "execution_count": 40,
   "metadata": {},
   "outputs": [],
   "source": [
    "# for i in X_unigram_train_raw.toarray():\n",
    "#     print(i)"
   ]
  },
  {
   "cell_type": "code",
   "execution_count": 65,
   "metadata": {},
   "outputs": [],
   "source": [
    "features = unigramFeatures \n",
    "X_train_raw = X_unigram_train_raw\n",
    "X_test_raw = X_unigram_test_raw"
   ]
  },
  {
   "cell_type": "code",
   "execution_count": 66,
   "metadata": {},
   "outputs": [
    {
     "data": {
      "text/plain": [
       "{'Dutch': 46,\n",
       " 'English': 47,\n",
       " 'Spanish': 53,\n",
       " 'Portugese': 55,\n",
       " 'French': 55,\n",
       " 'Indonesian': 64,\n",
       " 'Swedish': 66,\n",
       " 'Russian': 72,\n",
       " 'Estonian': 77,\n",
       " 'Turkish': 80,\n",
       " 'Arabic': 83,\n",
       " 'Romanian': 84,\n",
       " 'Persian': 86,\n",
       " 'Latin': 86,\n",
       " 'Tamil': 88,\n",
       " 'Hindi': 90,\n",
       " 'Urdu': 104,\n",
       " 'Thai': 117,\n",
       " 'Pushto': 125,\n",
       " 'Chinese': 185,\n",
       " 'Japanese': 203,\n",
       " 'Korean': 217}"
      ]
     },
     "execution_count": 66,
     "metadata": {},
     "output_type": "execute_result"
    }
   ],
   "source": [
    "# Aggregate Unigrams per language\n",
    "def train_lang_dict(X_raw_counts, y_train):\n",
    "    lang_dict = {}\n",
    "    for i in range(len(y_train)):\n",
    "        lang = y_train[i]\n",
    "        v = np.array(X_raw_counts[i])\n",
    "        if not lang in lang_dict:\n",
    "            lang_dict[lang] = v\n",
    "        else:\n",
    "            lang_dict[lang] += v\n",
    "            \n",
    "    # to relative\n",
    "    for lang in lang_dict:\n",
    "        v = lang_dict[lang]\n",
    "        lang_dict[lang] = v / np.sum(v)\n",
    "        \n",
    "    return lang_dict\n",
    "\n",
    "language_dict_unigram = train_lang_dict(X_unigram_train_raw.toarray(), y_train.values)\n",
    "\n",
    "# Collect relevant chars per language\n",
    "def getRelevantCharsPerLanguage(features, language_dict, significance=1e-5):\n",
    "    relevantCharsPerLanguage = {}\n",
    "    relevantCharsPerLanguage_w_significance = {}\n",
    "\n",
    "    for lang in languages:\n",
    "        chars = []\n",
    "        significance_chars = {}\n",
    "        relevantCharsPerLanguage[lang] = chars\n",
    "        relevantCharsPerLanguage_w_significance[lang] = significance_chars\n",
    "        v = language_dict[lang]\n",
    "        for i in range(len(v)):\n",
    "            if v[i] > significance:\n",
    "                chars.append(features[i])\n",
    "                significance_chars[features[i]] = v[i]\n",
    "    return relevantCharsPerLanguage, relevantCharsPerLanguage_w_significance\n",
    "\n",
    "relevantCharsPerLanguage, relevantCharsPerLanguage_significance = getRelevantCharsPerLanguage(unigramFeatures, language_dict_unigram)\n",
    "\n",
    "# Print number of unigrams per language\n",
    "languages_num_ngrams = {}\n",
    "for lang in languages:    \n",
    "    languages_num_ngrams[lang] = len(relevantCharsPerLanguage[lang])\n",
    "\n",
    "\n",
    "# Order a dictionary by value\n",
    "def sortDictByValue(d):\n",
    "    return {k: v for k, v in sorted(d.items(), key=lambda item: item[1])}\n",
    "\n",
    "languages_num_ngrams = sortDictByValue(languages_num_ngrams)\n",
    "\n",
    "languages_num_ngrams\n",
    "# plot an histogram with the number of unigrams per language\n",
    "# plt.bar(languages_num_ngrams.keys(), languages_num_ngrams.values(), color='g')\n",
    "# plt.show()"
   ]
  },
  {
   "cell_type": "code",
   "execution_count": 54,
   "metadata": {},
   "outputs": [],
   "source": [
    "# Plots de significancia de los unigramas por idioma\n",
    "for i in relevantCharsPerLanguage_significance.keys():\n",
    "    relevantCharsPerLanguage_significance[i] = {k: v for k, v in sorted(relevantCharsPerLanguage_significance[i].items(), key=lambda item: item[1])}\n",
    "\n",
    "\n",
    "# for i in relevantCharsPerLanguage_significance.keys():\n",
    "#     # add title\n",
    "#     plt.xlabel(\"Unigrams\")\n",
    "#     plt.ylabel(\"Significance\")\n",
    "#     plt.title(i)\n",
    "#     plt.plot(relevantCharsPerLanguage_significance[i].keys(), relevantCharsPerLanguage_significance[i].values(), color='b')\n",
    "#     plt.savefig('C:/Users/jordi/Documents/GitHub/MUD_Labs_Git/LangDetect/figures/'+i+'.jpg')\n",
    "#     # plt.show()\n",
    "#     # save figure\n"
   ]
  },
  {
   "cell_type": "code",
   "execution_count": 67,
   "metadata": {},
   "outputs": [
    {
     "name": "stdout",
     "output_type": "stream",
     "text": [
      "========\n",
      "Number of tokens in the vocabulary: 500\n",
      "Coverage:  0.960360956129256\n",
      "========\n"
     ]
    }
   ],
   "source": [
    "print('========')\n",
    "print('Number of tokens in the vocabulary:', len(features))\n",
    "print('Coverage: ', compute_coverage(features, X_test.values, analyzer=analyzer))\n",
    "print('========')"
   ]
  },
  {
   "cell_type": "code",
   "execution_count": 30,
   "metadata": {},
   "outputs": [
    {
     "name": "stdout",
     "output_type": "stream",
     "text": [
      "Length of features 3079\n",
      "\n"
     ]
    },
    {
     "ename": "TypeError",
     "evalue": "tuple indices must be integers or slices, not dict",
     "output_type": "error",
     "traceback": [
      "\u001b[1;31m---------------------------------------------------------------------------\u001b[0m",
      "\u001b[1;31mTypeError\u001b[0m                                 Traceback (most recent call last)",
      "Cell \u001b[1;32mIn [30], line 17\u001b[0m\n\u001b[0;32m     15\u001b[0m relevantChars_Top1Percent \u001b[39m=\u001b[39m getRelevantCharsPerLanguage(top1PercentFeatures, language_dict_top1Percent, \u001b[39m1e-5\u001b[39m)\n\u001b[0;32m     16\u001b[0m \u001b[39mfor\u001b[39;00m lang \u001b[39min\u001b[39;00m relevantChars_Top1Percent:\n\u001b[1;32m---> 17\u001b[0m     \u001b[39mprint\u001b[39m(\u001b[39m\"\u001b[39m\u001b[39m{}\u001b[39;00m\u001b[39m: \u001b[39m\u001b[39m{}\u001b[39;00m\u001b[39m\"\u001b[39m\u001b[39m.\u001b[39mformat(lang, \u001b[39mlen\u001b[39m(relevantChars_Top1Percent[lang])))\n",
      "\u001b[1;31mTypeError\u001b[0m: tuple indices must be integers or slices, not dict"
     ]
    }
   ],
   "source": [
    "# Uni- & Bi-Gram Mixture CountVectorizer for top 1% features\n",
    "from sklearn.feature_extraction.text import CountVectorizer\n",
    "\n",
    "top1PrecentMixtureVectorizer = CountVectorizer(analyzer='char', ngram_range=(1,1), min_df=1e-2)\n",
    "X_top1Percent_train_raw = top1PrecentMixtureVectorizer.fit_transform(X_train)\n",
    "X_top1Percent_test_raw = top1PrecentMixtureVectorizer.transform(X_test)\n",
    "\n",
    "language_dict_top1Percent = train_lang_dict(X_top1Percent_train_raw.toarray(), y_train.values)\n",
    "\n",
    "top1PercentFeatures = top1PrecentMixtureVectorizer.get_feature_names()\n",
    "print('Length of features', len(top1PercentFeatures))\n",
    "print('')\n",
    "\n",
    "#Unique features per language\n",
    "relevantChars_Top1Percent = getRelevantCharsPerLanguage(top1PercentFeatures, language_dict_top1Percent, 1e-5)\n",
    "for lang in relevantChars_Top1Percent:\n",
    "    print(\"{}: {}\".format(lang, len(relevantChars_Top1Percent[lang])))"
   ]
  },
  {
   "attachments": {},
   "cell_type": "markdown",
   "metadata": {},
   "source": [
    "# Classifier"
   ]
  },
  {
   "cell_type": "code",
   "execution_count": 68,
   "metadata": {},
   "outputs": [
    {
     "name": "stdout",
     "output_type": "stream",
     "text": [
      "========\n",
      "Prediction Results:\n",
      "F1: 0.9602272727272727 (micro), 0.9622050216794633 (macro), 0.9620524366626872 (weighted)\n",
      "========\n"
     ]
    }
   ],
   "source": [
    "#Apply Classifier  \n",
    "X_train, X_test = normalizeData(X_train_raw, X_test_raw)\n",
    "y_predict = applyNaiveBayes(X_train, y_train, X_test)\n",
    "\n",
    "print('========')\n",
    "print('Prediction Results:')    \n",
    "plot_F_Scores(y_test, y_predict)\n",
    "print('========')"
   ]
  },
  {
   "cell_type": "code",
   "execution_count": 81,
   "metadata": {},
   "outputs": [
    {
     "data": {
      "text/plain": [
       "'Japanese'"
      ]
     },
     "execution_count": 81,
     "metadata": {},
     "output_type": "execute_result"
    }
   ],
   "source": [
    "y_test.iloc[0]"
   ]
  },
  {
   "cell_type": "code",
   "execution_count": 74,
   "metadata": {},
   "outputs": [
    {
     "data": {
      "text/plain": [
       "'Japanese'"
      ]
     },
     "execution_count": 74,
     "metadata": {},
     "output_type": "execute_result"
    }
   ],
   "source": [
    "y_predict[0]"
   ]
  },
  {
   "cell_type": "code",
   "execution_count": 95,
   "metadata": {},
   "outputs": [
    {
     "name": "stdout",
     "output_type": "stream",
     "text": [
      "Predicted:  English  Actual:  Urdu  Text:  below was the list of the types of sports played in the seag from  the bullet mark • indicates that the sport was played in the respective year\n",
      "\n",
      "Predicted:  English  Actual:  Spanish  Text:  en febrero de  fue traspasado a los milwaukee bucks junto con ish smith y jj redick a cambio de beno udrih doron lamb y tobias harris[]​ en julio de  los milwaukee bucks no hacen efectiva la extensión de su contrato y decide acordar jugar en los atlanta hawks\n",
      "\n",
      "Predicted:  English  Actual:  Portugese  Text:  stephen midgley peter stevens ben richardson paul gioia  nicholas lander worldwidewattle - webseite über die akazien mit einem schwerpunkt auf die australischen arten\n",
      "\n",
      "Predicted:  English  Actual:  Spanish  Text:  como actriz ha trabajado para productoras como evil angel girlfriends films wicked brazzers sweetheart video naughty america mile high pure play media forbidden fruits films mile high digital sin o hard x\n",
      "\n",
      "Predicted:  English  Actual:  Thai  Text:  morales f j  arribas-lorenzo g  the formation of potentially harmful compounds in< i> churros a spanish fried-dough pastry as influenced by deep frying conditions food chemistry  -\n",
      "\n",
      "Predicted:  Pushto  Actual:  Persian  Text:  اس‌اس پرینچیپسا یولاندا  به انگلیسی ss principessa jolanda  یک کشتی بود که طول آن  فوت  متر بود این کشتی در سال  ساخته شد\n",
      "\n",
      "Predicted:  Spanish  Actual:  Pushto  Text:  order …… pseudo mono dales chlimydo bacterialel bypho micro bales eubacterales acteno mycetales caryo phanales baggiatoales myxo bacteriales myco plasmatales\n",
      "\n",
      "Predicted:  English  Actual:  Dutch  Text:  anisomysis paranisomysis ohtsukai is een aasgarnalensoort uit de familie van de mysidae de wetenschappelijke naam van de soort is voor het eerst geldig gepubliceerd in  door murano\n",
      "\n",
      "Predicted:  Spanish  Actual:  Portugese  Text:  o club atlético colón é um clube argentino de futebol sua sede fica na cidade de santa fe capital da provincia de santa fe a equipe disputa a primera división argentina\n",
      "\n",
      "Predicted:  English  Actual:  Latin  Text:  girard rené  \"to double business bound\" essays on literature mimesis and anthropology baltimorae johns hopkins university press\n",
      "\n",
      "Predicted:  English  Actual:  Indonesian  Text:  inventory of the japanese war crime tribunal documents – the university of new mexico university libraries center for southwest research box  folder no a  october  war crimes sandakan area joint statement by chen kay chin kin and lo tong against sgt naoji rosotani kempei tai box  folder  no  imtfe sworn deposition of takakura tadashi -- captain takakura tadashi was the commander of the sandakan camp when the pows were marched from sandakan to ranau on the second death march  may \n",
      "\n",
      "Predicted:  English  Actual:  Pushto  Text:  antisthenes was a pupil of socrates from whom he imbibed the fundamental ethical precept that virtue not pleasure is the end of existence in all that the wise man does antisthenes said he conforms to perfect virtue and pleasure is not only unnecessary to man but a positive evil he is reported to have held pain and even ill-repute يوناني ἀδοξία to be blessings and that madness is preferable to pleasure it is however probable that he did not consider all pleasure worthless but only that which results from the gratification of sensual or artificial desires for we find him praising the pleasures which spring \"from out of ones soul\" and the enjoyments of a wisely chosen friendship the supreme good he placed in a life lived according to virtue - virtue consisting in action which when obtained is never lost and exempts the wise man from error it is closely connected with reason but to enable it to develop itself in action and to be sufficient for happiness it requires the aid of socratic strength يوناني σωκρατικὴ ἱσχύς\n",
      "\n",
      "Predicted:  English  Actual:  Portugese  Text:  besemer s and farrington d p  intergenerational transmission of criminal behaviour conviction trajectories of fathers and their children european journal of criminology  -\n",
      "\n",
      "Predicted:  English  Actual:  Indonesian  Text:  bisby fa roskov yr orrell tm nicolson d paglinawan le bailly n kirk pm bourgoin t baillargeon g ouvrard d red  \"species   itis catalogue of life  annual checklist\" species  reading uk diakses pada  september \n",
      "\n",
      "Predicted:  English  Actual:  Indonesian  Text:  bisby fa roskov yr orrell tm nicolson d paglinawan le bailly n kirk pm bourgoin t baillargeon g ouvrard d red  \"species   itis catalogue of life  annual checklist\" species  reading uk diakses pada  september \n",
      "\n",
      "Predicted:  French  Actual:  Latin  Text:  kléber dadjo natus anno  mortuus anno  fuit breviter togi praeses ad interim post seditionem anno  inter quam nicolaus grunitzky depositus est paulo post ipse kléber dadjo a gnassingbé eyadéma praesidentia remotus est\n",
      "\n",
      "Predicted:  English  Actual:  Dutch  Text:  chini is een stad in het arrondissement huadu in de prefectuur kanton in de provincie guangdong china het werkkamp heropvoeding door werk van kanton #  ligt in hexi wat bij chini hoort het werkkamp heropvoeding door werk van kanton #  ligt in hengsha wat bij chini hoort\n",
      "\n",
      "Predicted:  English  Actual:  Indonesian  Text:  sitting pretty adalah sebuah film komedi amerika  film tersebut dibintangi oleh robert young maureen ohara dan clifton webb film tersebut diadaptasi oleh f hugh herbert dari novel komika belvedere  karya gwen davenport film tersebut disutradarai oleh walter lang\n",
      "\n",
      "Predicted:  Spanish  Actual:  Portugese  Text:  max tennyson max-foi um encanador mas teve que se aposentar pela idade leva ben e gwen para passar férias em seu trailer a lata velhaquando o relógio ficou preso no pulso de ben revelou ser um encanador que protegia a terra dos alienígenas gosta de pescar e de charlenne a quem inventou o omnitrix junto com azmuth\n",
      "\n",
      "Predicted:  English  Actual:  Latin  Text:  fullard j h  evolution of hearing in moths the ears of oenosandra boisduvalii noctuoidea oenosandridae australian journal of zoology  – pdf\n",
      "\n",
      "Predicted:  Russian  Actual:  Japanese  Text:  толочко о п краткая редакция правды руской происхождение текста - к інститут історії україни hah україни  - с - ruthenica supplementum  полная pdf-версия\n",
      "\n",
      "Predicted:  French  Actual:  Romanian  Text:  rezak drali poux humains  différenciation distribution phylogéographique host-switching et contrôle thèse présentée pour obtenir le grade universitaire de docteur discipline  pathologie humaine spécialité  maladies infectieuses aix-marseille universite ecole doctorale des sciences de la vie et de la santé faculté de médecine de marseille \n",
      "\n",
      "Predicted:  English  Actual:  Tamil  Text:  william camrose giant of fleet street by his son lord hartwell illustrated biography with black-and-white photographic plates and includes an index concerns his links with the daily telegraph\n",
      "\n",
      "Predicted:  English  Actual:  Dutch  Text:  petersen brak nu door in hollywood voor twentieth century-fox draaide hij de sciencefictionfilm enemy mine  deze film werd nog in de bavaria-studios in münchen opgenomen maar daarna vertrok petersen naar los angeles hij behaalde in  een succes met in the line of fire met clint eastwood als een angstige beveiliger van de amerikaanse president en draaide vervolgens outbreak  met dustin hoffman in  haalde petersen weer een kassucces nu met air force one met een hoofdrol voor harrison ford ondanks wisselende recensies\n",
      "\n",
      "Predicted:  English  Actual:  Dutch  Text:  stenoma ptychophthalma is een vlinder uit de familie van de sikkelmotten oecophoridae de wetenschappelijke naam van de soort is voor het eerst geldig gepubliceerd in  door meyrick\n",
      "\n",
      "Predicted:  Indonesian  Actual:  Latin  Text:  lingua seu potius linguae bihari bihārī ad linguas indicas e divisione indoiranica familiae indoeuropaeae pertinent in india adhibentur series linguarum bihari comprehendit magahi maithili angika bajjika sadri sive sadani et nagpuria bhojpuri indiae ipsius bhojpuri mauritiana bhojpuri africana australis sarnami bhojpuri guianensis bhojpuri insulae trinitatis interdum inter dialectos hindi enumerantur sed ab aliis inter bengalicas\n",
      "\n",
      "Predicted:  Swedish  Actual:  Dutch  Text:  directplay als multiplayer-gaminginfrastructuur deze component is verouderd sinds directx  en microsoft het gebruik ervan niet meer aanraadt voor gameontwikkeling\n",
      "\n",
      "Predicted:  English  Actual:  French  Text:  stegersbach est une commune autrichienne du district de güssing dans le burgenland le nom hongrois de la commune est szentelek le nom croate santalek le nom romani schtega\n",
      "\n",
      "Predicted:  Swedish  Actual:  Estonian  Text:  osiris-rex origins-spectral interpretation-resource identification-security-regolith explorer on missioon mille eesmärgiks on tuua tagasi pinnaseproove asteroidilt  bennu varem  rq tegemist on kõige kergemini ligipääsetava asteroidiga kus leidub rohkesti orgaanilisi ühendeid\n",
      "\n",
      "Predicted:  English  Actual:  Dutch  Text:  halorhadinus sawadai is een keversoort uit de familie van de kortschildkevers staphylinidae de wetenschappelijke naam van de soort is voor het eerst geldig gepubliceerd in  door maruyama  hayashi\n",
      "\n",
      "Predicted:  English  Actual:  Estonian  Text:  dale mayer the complete guide to companion planting everything you need to know to make your garden succesfull  atlantic publishing group googlei raamatu veebiversioon vaadatud  inglise keeles\n",
      "\n",
      "Predicted:  Korean  Actual:  Pushto  Text:   ﺩﺣﻀﺮﺕ ﺍﺑﻮﻫﺮﯾﺮﻩ ﺭﺿﯽ ﺍﻟﻠﻪ ﻋﻨﻪ څﺨﻪ ﺭﻭﺍﯾﺖ ﺩﯼ ﭼﯥ ﻧﺒﯽ ﮐﺮﯾﻢ ﺻﻠﯽ ﺍﻟﻠﻪ ﻋﻠﯿﻪ ﻭﺳﻠﻢ ﻭﻓﺮﻣﺎﯾﻞ ﺍﯼ ﺩﻗﺒﺮﺳﺘﺎﻥ ﺭﺍﺗﻠﻮﻧﮑﻮﺧﻠﮑﻮﻣﺆﻡﻧﺎﻧﻮﭘﺮﺗﺎﺳﯽ ﺩﯼ ﺩﺍﻟﻠﻪ ﻟﻪ ﻟﻮﺭﯼ ﺳﻼﻡ ﻭﻱ ﺍﻭﻧﮋﺩﯼ ﺩﻩ ﭼﯥ ﻣﻮږﺑﻪ ﺳﺘﺎﺳﻮﺳﺮﻩ ﻣﻼﻭﺷﻮﻣﺎﻏﻮښﺘﻪ ﭼﯥ ﮐﺎﺷﮑﯽ ﺧﭙﻞ ﻭﺭﻭڼﻪ ﻭﻭﯾﻨﻢ ﺻﺤﺎﺑﻪ ﮐﺮﺍﻣﻮﻋﺮﺽ ﻭﮐﻲ ﭼﯥ ﻣﻮږﺳﺘﺎﺳﻮﻭﺭﻭڼﻪ ﻧﻪ ﯾﻮ؟ﺍﺭﺷﺎﺩﻭﺷﻮﭼﯥ ﺗﺎﺳﯽ ﺯﻣﺎﺻﺤﺎﺑﻪ ﯾﺎﺳﺖ ﺯﻣﺎﻭﺭﻭڼﻪ ﻫﻐﻪ ﺩﯼ ﭼﯥ ﻻﺗﺮﺍﻭﺳﻪ ﻧﻪ ﺩﯼ ﺭﺍﻏﻠﯽ ﺻﺤﺎﺑﻪ ﮐﺮﺍﻣﻮﻋﺮﺽ ﻭﮐﻲ ﭼﯥ ﯾﺎﺭﺳﻮﻝ ﺍﻟﻠﻪ ﺗﺎﺳﯽ ﺑﻪ ﺩﻏﻪ ﺍﻣﺘﯿﺎﻥ څﻨگﻪ ﺑﻪ ﭘﯿﮋﻧﯽ؟ ﭼﯥ ﻻﺗﺮﺍﻭﺳﻪ ﻧﻪ ﺩﯼ ﺭﺍﻏﻠﯽ؟ ﺩﻩ ﻭﻓﺮﻣﺎﯾﻞ ﭼﯥ ﺗﺎﺳﯽ ﻭﻣﺎﺗﻪ ﻭﻭﺍﯾﺎﺳﺖ ﭼﯥ ﯾﻮﺳړﯼ ﺧﭙﻞ ﺳﭙﯿﻦ ﺗﻨﺪﯼ ﺳﻴﯿﻨﻮﭘښﻮﺍﻭﺳﭙﯿﻨﻮﻻﺳﻮﻧﻮﻭﺍﻻﺍﺱ ﭘﻪ ﺗﻮﺭﻭﺍﺳﻮﻧﻮﮐﻲ گډﮐړﯼ ﻧﻮﻫﻐﻪ ﺑﻪ ﺧﭙﻞ ﺍﺱ ﻧﻪ ﭘﯿﮋﻧﯽ ﺻﺤﺎﺑﻪ ﮐﺮﺍﻣﻮﻭﻭﯾﻞ ﭼﯥ ﺿﺮﻭﺭﯾﺎﺭﺳﻮﻝ ﺍﻟﻠﻪ ﻧﺒﯽ ﮐﺮﯾﻢ ﺻﻠﯽ ﺍﻟﻠﻪ ﻋﻠﯿﻪ ﻭﺳﻠﻢ ﻭﻓﺮﻣﺎﯾﻞ ﭼﯥ ﺩﻗﯿﺎﻣﺖ ﭘﻪ ﻭﺭځ ﺑﻪ ﻫﻐﻪ ﺧﻠﮏ ﭘﻪ ﺩﺍﺳﯽ ﺣﺎﻝ ﮐﻲ ﺭﺍﺷﯽ ﭼﯥ ﺩﺍﻭﺩﺍﺳﻪ ﻟﻪ ﮐﺒﻠﻪ ﺑﻪ ﺋﯥ ﺗﻨﺪﯼ ځﻠﯿږﯼﺍﻭﺩﺩﻭﯼ ﻻﺳﻮﻧﻪ ﺍﻭﭘښﯥ ﺑﻪ ﺭﻭښﺎﻧﻪ ﻭﻱ ﺍﻭﺯﻩ ﺑﻪ ﺣﻮﺽ ﮐﻮﺛﺮﺗﻪ ﺩﺩﻭﯼ ﻧﻪ ﻣﺨﮑﻲ ﺭﺳﯿﺪﻟﯽ ﯾﻢ ﺭﻭﺍﻩ ﻣﺴﻠﻢ ﻭﻏﯿﺮﻩ\n",
      "\n",
      "Predicted:  Spanish  Actual:  Romanian  Text:  au mai fost nominalizați  de jucători dar nu au primit nici un vot david beckham mauro camoranesi fabio cannavaro grégory coupet cris deco dida emerson luís figo diego forlán roy makaay michael owen park ji-sung andrea pirlo raúl arjen robben roberto carlos robinho ronaldo wayne rooney lilian thuram david trezeguet mark van bommel ruud van nistelrooy patrick vieira and xavi\n",
      "\n",
      "Predicted:  English  Actual:  Hindi  Text:  in  the us established a central intelligence agency to coordinate its various foreign intelligence efforts it was named the central intelligence agency\n",
      "\n",
      "Predicted:  English  Actual:  Dutch  Text:  het huis te manpad is een historische buitenplaats aan de herenweg  in het noord-hollandse heemstede in  werd voor het eerst melding gemaakt van de buitenplaats pieter cornelisz heuts gaf in  opdracht om het hoofdgebouw dat er nu nog staat te bouwen in  kocht daniel lestevenon dit huis van hem na diens dood breidde zijn vrouw elisabeth gillon de buitenplaats uit door het naastgelegen het cleyne huys te manpat aan te kopen in  werd de buitenplaats verkocht aan de amsterdamse koopman cornelis van goor in  breidde hij huis te manpad uit door aankoop van een stuk land en een huis met de naam de capel\n",
      "\n",
      "Predicted:  English  Actual:  Latin  Text:  hugo ott conrad gröber – in jürgen aretz rudolf morsey anton rauscher hrsg zeitgeschichte in lebensbildern aus dem deutschen katholizismus des  und \n",
      "\n",
      "Predicted:  Persian  Actual:  Pushto  Text:  علامه ابن حبان رح په خپل ټاټوبی بست کې زده کړي له دشیخ ابواحمد اسحاق بن ابراهیم القاضې ابوالحسن محمدبن عبدالله الجنید البستي  اوپه هراة کې دابوبکر محمدبن سعد الدارمي  په مرو کې دابوعبدالله السعدي ابویزید اوداسې نور و ډیرو علماو څخه کړي  وروسته نوموړی بیا دغه لاندي سیموته هم په علم پسې سفرونه کړي دبیلگې په ډول  سنگ  ماوراء النهر  نساء  النسوین  نیشابور ارغیان  جرجان  ری [اوسنی طهران] کرج  عسکر مکرم  تستر  اهواز  ابله  بصره واسط فم الصلح  نهرالسابوس  بغداد کوفه  مکه  سامراء  مصل  سنجار  نصیبین  کفرتوشا بسرغا  مرطاء  مصر  رافقه  رقة  منج  حلب  مصیصه  انطاکیه  طرطوس  اذنه  صیداء  بیروت  حمص  دمشق  بیت المقدس رمله اوداسې نور ……\n",
      "\n",
      "Predicted:  Latin  Actual:  Estonian  Text:  royal caribbean cruises ltd ostis novembris  madridis pullmantur cruisese uute ristlusliinide asutamiseks mais  asutati celebrity cruisese tütarfirmana azamara club cruises mais  asutati prantsuskeelsete klientide teenidamiseks cdf croisières de france  aastal alustas tegevust saksakeelsetele klientidele orienteeritud royal caribbean cuisese ja tui travel plc ühisettevõte tui cruises\n",
      "\n",
      "Predicted:  Spanish  Actual:  Portugese  Text:  foi protagonizada por jacqueline bracamontes jaime camil e valentino lanus e antagonizada por karla álvarez fabiola campomanes e sabine moussier\n",
      "\n",
      "Predicted:  Portugese  Actual:  Spanish  Text:  julie benz comento que \"el embarazo fue el momento más emocionante de tanto de su personaje darla como el de su carrera\" \"descubrí que fue el momento más wow que tuve con ella siempre bromeábamos que podría embarazarse pero siempre fue broma\"[]​\n",
      "\n",
      "Predicted:  English  Actual:  Dutch  Text:  gordons debuutalbum with the music i die kwam op  juni  uit in australië het nummer \"dirty talk\" van dat album kwam vier weken op nummer  in de australische single top  ook in de us dance lijst en de australische dance lijst kwam het nummer op  in de vlaamse en wallonische ultratop  haalde ze met \"dirty talk\" respectievelijk nummer  en nummer  haar tweede hit scoorde ze met \"till death\" die op nummer  in australië binnenkwam\n",
      "\n",
      "Predicted:  English  Actual:  Dutch  Text:  pygopleurus apicalis is een keversoort uit de familie glaphyridae de wetenschappelijke naam van de soort is voor het eerst geldig gepubliceerd in  door brulle\n",
      "\n",
      "Predicted:  Persian  Actual:  Pushto  Text:  ایزو  معیارونه معمولا د کیفیت څخه بحث کوی ددی معیارونو په لړ کی بیلا بیل نور فرعی معیارونه وجود لری چی تر ټولو مهم معیار یی ایزو  دی چی په  کال کی د آخری ځل لپاره په نشر ورسید د ایزو  د معیار ټول اړوند نور معیارونه معمولا د مشتری په رضایت او دهغه د توقعاتو د رفع کولو په خاطر جوړ شوی دید ایزو  معیار یو ښه توت دا دی چی په هر رقم سازمان کی ورڅخه استفاده کیدای شی\n",
      "\n",
      "Predicted:  Swedish  Actual:  French  Text:  mis en place pour louverture de la ligne shinkansen hokuriku appelée alors ligne shinkansen nagano le er octobre  ce service relie les gares de tokyo et nagano en empruntant les lignes shinkansen tōhoku jōetsu et hokuriku\n",
      "\n",
      "Predicted:  French  Actual:  Dutch  Text:  larressore is een gemeente in het franse departement pyrénées-atlantiques regio nouvelle-aquitaine en telt  inwoners  de plaats maakt deel uit van het arrondissement bayonne\n",
      "\n",
      "Predicted:  Latin  Actual:  French  Text:  libros lecturas lectores francia siglos xviii-xx cahier hors série de secuencia revista de historia y ciencias sociales méxico instituto de investigaciones históricas \n",
      "\n",
      "Predicted:  Latin  Actual:  Spanish  Text:  regidores alipio quispe meneses apep gustavo pumacayo paucar apep emer camposano choque apep faustina juvita choque pizarro apep ever pizarro quispe frente popular llapanchik\n",
      "\n",
      "Predicted:  French  Actual:  Dutch  Text:  lacrost - laives - laizé - laizy - lalheue - lans - lays-sur-le-doubs - lesme - lessard-en-bresse - lessard-le-national - leynes - ligny-en-brionnais - loisy - longepierre - louhans - lournand - la loyère - lucenay-lévêque - lugny - lugny-lès-charolles - lux\n",
      "\n",
      "Predicted:  English  Actual:  Latin  Text:  yet such intrigues might be less pernicious to mankind than the theological disputes of the sorbonne which have been since agitated on the same groundidem carmen c s lewis citat in libro suo anni  the allegory of love pagina \n",
      "\n",
      "Predicted:  English  Actual:  Dutch  Text:  het costa ricaans voetbalelftal behaalde in juni  met de e plaats de hoogste positie op de fifa-wereldranglijst in juli  werd met de e plaats de laagste positie bereikt\n",
      "\n",
      "Predicted:  English  Actual:  Spanish  Text:  en  mary dyer y su esposo william fueron desterrados junto con hutchinson de la colonia por consejo de roger williams el grupo de hutchinson y dyer se mudó a portsmouth rhode island william dyer al igual que otros  hombres firmó el pacto de portsmouth\n",
      "\n",
      "Predicted:  English  Actual:  Estonian  Text:  jeanthon c lharidon s cueff v banta a reysenbach a l ja prieur d  \"thermodesulfobacterium hydrogeniphilum sp nov a thermophilic chemolithoautotrophic sulfate-reducing bacterium isolated from a deep-sea hydrothermal vent at guaymas basin and emendation of the genus thermodesulfobacterium\" int j syst evol microbiol  pt  – pmid \n",
      "\n",
      "Predicted:  English  Actual:  Portugese  Text:  farrington d p b later adult life outcomes of offenders and non-offenders in brambring m losel f and skowronek h eds children at risk assessment longitudinal research and intervention berlin de gruyter pp -\n",
      "\n",
      "Predicted:  Indonesian  Actual:  Estonian  Text:  aastakümned  aastad  aastad  aastad  aastad  aastad -  aastad -  aastad  aastad  aastad  aastad  aastad\n",
      "\n",
      "Predicted:  English  Actual:  Urdu  Text:  singh amar kaur jasbir gandhi and civil disobedience documents in the india office records - london india office library and records \n",
      "\n",
      "Predicted:  Persian  Actual:  Pushto  Text:  دا بیع سلم ته ورته تړون دی د استضاح له تړون څخه هدف کوم کارگر یا صنعت کارته د څه شی د جوړولو په بدل کی وړاندی قیمت یا مخکی بیه ورکولو ته وای  پیشکایی\n",
      "\n",
      "Predicted:  English  Actual:  Dutch  Text:  volgend op de live consternation tour met katatonia insomnium and swallow the sun keerde de band huiswaarts om te werken aan het derde album voor het album getiteld holographic universe had de band reeds  tracks geschreven en richtte zich erop er  te hebben bij het binnengaan van de studio op  december  met de europese releasedatum van  juni is de gemaakte belofte ingelost op de myspace-pagina van scar symmetry biedt de band het hele album aan als preview luisterbeurt\n",
      "\n",
      "Predicted:  English  Actual:  Pushto  Text:  jack s blocker et al eds alcohol and temperance in history an international encyclopedia santa barbara  esp on the period after  which is not mentioned in this article\n",
      "\n",
      "Predicted:  English  Actual:  Latin  Text:  miller j s  cladistics and classification of the notodontidae lepidoptera noctuoidea based on larval and adult morphology bulletin of the american museum of natural history  []\n",
      "\n",
      "Predicted:  Pushto  Actual:  Persian  Text:  شاراخبرگهایم-ایرمشتت به فرانسوی scharrachbergheim-irmstett یک کامین در فرانسه با جمعیت ٬ نفر است که در canton of wasselonne واقع شده‌است\n",
      "\n",
      "Predicted:  Russian  Actual:  Estonian  Text:  гейнц гудерианвоспоминания немецкого генерала танковые войска германии во второй мировой войне –центрполиграф on loetav internetis\n",
      "\n",
      "Predicted:  Portugese  Actual:  Spanish  Text:  máximo avilés blonda santo domingo  de mayo de  - santo domingo  de enero de  fue un poeta y dramaturgo de la república dominicana\n",
      "\n",
      "Predicted:  English  Actual:  Indonesian  Text:  bisby fa roskov yr orrell tm nicolson d paglinawan le bailly n kirk pm bourgoin t baillargeon g ouvrard d red  \"species   itis catalogue of life  annual checklist\" species  reading uk diakses pada  september \n",
      "\n",
      "Predicted:  English  Actual:  Hindi  Text:  epm ethylene propylene rubber a copolymer of ethylene and propylene and epdm rubber ethylene propylene diene rubber a terpolymer of ethylene propylene and a diene-component\n",
      "\n",
      "Predicted:  English  Actual:  Turkish  Text:  frenkel m november  \"[charles brenton huggins co-winner of the nobel prize in physiology and medicine ]\" nederlands tijdschrift voor geneeskunde   – pmid \n",
      "\n",
      "Predicted:  Swedish  Actual:  Estonian  Text:  fifa esimeseks presidendiks valiti  mail  prantslane robert guérin ning asepresidentideks hollandlane carl anton wilhelm hirschman ja šveitslane victor e schneider\n",
      "\n",
      "Predicted:  English  Actual:  Chinese  Text:  月日日本專屬節目gyao midtowntv《月刊ss》連續周放送；日結束長達半年在日本的活動返韓參加於弘益大學club catchlight舉行的「ufo town with ss party」，演出中透露即將於明年月發行新輯，並在韓啟動全面性的宣傳活動；日參與澀谷cclemon hall舉行的「韓日pop festival 」。\n",
      "\n",
      "Predicted:  English  Actual:  Latin  Text:  lugge margret  \"gallia\" et \"francia\" im mittelalter untersuchungen über den zusammengang zwischen geographisch-historischer terminologie und politischem denken vom - jahrhundert bonnae\n",
      "\n",
      "Predicted:  English  Actual:  Urdu  Text:  \"تاریخی اعتبار سے the conquest destroyed the outward form of what had already inwardly decayed it cleared away with regrettable brutality and thoroughness a system of life which with all its gifts of order culture and law had worn itself into senile debility and had lost the powers of regeneration and growth\" ص۔ \n",
      "\n",
      "Predicted:  English  Actual:  Estonian  Text:  bornhaupt christian entwurf einer geographisch-statistisch-historischen beschreibung liv- ehst- und kurlands nebst einer wandkarte riga w f häcker  lk - []\n",
      "\n",
      "Predicted:  Swedish  Actual:  Japanese  Text:  j klima ernst gottlieb baron – partiten aus den verschollenen handschriften berlin mus ms  und königsberg  themenverzeichnis enzersdorf \n",
      "\n",
      "Predicted:  English  Actual:  Chinese  Text:  年：《地質學》（geology），發表在約翰·弗里德里希·威廉·赫歇爾所編的《科學調查手冊》（a manual of scientific enquiry prepared for the use of her majestys navy and adapted for travellers in general）。\n",
      "\n",
      "Predicted:  Estonian  Actual:  Indonesian  Text:  kota salzburg di austria setiap tahunnya mengadakan festival paskah salzburg salzburger osterfestspiele yaitu festival opera dan musik klasik selama pekan paskah festival itu telah berlangsung sejak  dan diperkuat oleh die berliner philharmoniker orkestra filharmonik berlin gustav mahler jugendorchester orkestra muda gustav mahler dll\n",
      "\n",
      "Predicted:  French  Actual:  Thai  Text:  bernard-philippe groslier avec la collaboration de cr boxer angkor et le cambodge au แม่แบบs- daprès les sources portugaises et espagnoles p tableau iii « succession dang chan » puf paris \n",
      "\n",
      "Predicted:  English  Actual:  Estonian  Text:  bruce d perry the neurodevelopmental impact of violence in childhood chapter  in textbook of child and adolescent forensic psychiatry eds d schetky ja ep benedek american psychiatric press inc washington dc lk – \n",
      "\n",
      "Predicted:  English  Actual:  Latin  Text:  gs bucher  \"the origins program and composition of appian’s roman history\" in transactions of the american philological association   – hic legere potes\n",
      "\n",
      "Predicted:  Persian  Actual:  Urdu  Text:  اس وقت یہ اسٹیشن پاکستان ریلویز کے استعمال میں ہے ۔اب سی تهوری عرصه قبل یه ایک بهت فعال اور صاف اسٹیشن تهاجس سی فیصل آباد اور دیگر قصبون کی لوکل گاریان چلائی جاتی تهی\n",
      "\n",
      "Predicted:  English  Actual:  Latin  Text:  kuznetzov v i c m naumann w speidel et a a stekolnikov  the skeleton and musculature of male and female terminalia in oenosandra boisduvalii newman  and the phylogenetic position of the family oenosandridae insecta lepidoptera shilap revista de lepidopterologia  -\n",
      "\n",
      "Predicted:  English  Actual:  Indonesian  Text:  bisby fa roskov yr orrell tm nicolson d paglinawan le bailly n kirk pm bourgoin t baillargeon g ouvrard d red  \"species   itis catalogue of life  annual checklist\" species  reading uk diakses pada  september \n",
      "\n",
      "Predicted:  English  Actual:  Thai  Text:  edo-tokyo museum exhibition catalog  a very unique collection of historical significance the kapitan the dutch chief collection from the edo period—the dutch fascination with japan catalog of \"th anniversary exhibition regarding relations between japan and the netherlands\" a joint project of the edo-tokyo museum the city of nagasaki the national museum of ethnology the national natuurhistorisch museum and the national herbarium of the netherlands in leiden the netherlands tokyo\n",
      "\n",
      "Predicted:  Dutch  Actual:  Indonesian  Text:   ideen zu einer reinen phänomenologie und phänomenologischen philosophie erstes buch allgemeine einführung in die reine phänomenologie [ ideas general introduction to pure phenomenology]\n",
      "\n",
      "Predicted:  Portugese  Actual:  Indonesian  Text:  louis dumont  thessaloniki ottoman empire - november   paris adalah seorang antropolog perancis dia adalah seorang profesor di universitas oxford pada tahun  dan direktur di école des hautes en sciences sociales études ehess di paris seorang spesialis pada budaya dan masyarakat india dumont juga mempelajari filsafat sosial dan ideologi barat\n",
      "\n",
      "Predicted:  Estonian  Actual:  Latin  Text:  baljci blažuj bogdašić borčani bukova gora bukovica cebara crvenice ćavarov stan dobrići donji brišnik eminovo selo galečić gornja prisika gornji brišnik grabovica jošanica kazaginac kolo kongora korita kovači krnjin kuk letka lipa liskovača lug mandino selo mesihovina mijakovo polje mokronoge mrkodol omerovići omolje oplećani pasić podgaj prisoje radoši rašćani rašeljke renići roško polje rošnjače sarajlije seonica srđani stipanjići šujica tomislavgrad vedašić vinica vojkovići vranjače vrilo zaljiće zaljut e zidine\n",
      "\n",
      "Predicted:  Estonian  Actual:  English  Text:  budyonnovsky russian будённовский masculine budyonnovskaya будённовская feminine or budyonnovskoye будённовское neuter is the name of several rural localities in russia\n",
      "\n",
      "Predicted:  Latin  Actual:  Estonian  Text:  loreto aprutino piirneb järgmiste omavalitsusüksustega catignano civitaquana civitella casanova collecorvino moscufo penne pianella picciano\n",
      "\n",
      "Predicted:  English  Actual:  Estonian  Text:  harlan luxenberg susan p limber dan olweus assessed using data collected from the olweus bullying questionnaire™ hazelden publishing \n",
      "\n",
      "Predicted:  Swedish  Actual:  Dutch  Text:  kristine aas geborgen colban bø i vesterålen  maart  – christiania  december  was een noors kunstenares en oprichtster van liefdadigheidsinstellingen ze staat elders bekend als stine aas\n",
      "\n",
      "Predicted:  English  Actual:  Dutch  Text:  iain menzies banks dunfermline schotland  februari  –  juni  was een schotse schrijver onder de naam iain banks schreef hij literaire romans als iain m banks schreef hij sciencefiction\n",
      "\n",
      "Predicted:  Portugese  Actual:  Estonian  Text:  paul devos le mystérieux épisode final de la \"vita gregorii\" de jean diacre formose et sa fuite de rome \"analecta bollandiana\"   –\n",
      "\n",
      "Predicted:  English  Actual:  Dutch  Text:  messaoudi debuteerde bij sparta en speelde vervolgens bij hfc haarlem in het seizoen  probeerde hij aan de slag te gaan in het britse voetbal hij was op proef bij chelsea fc fulham fc southampton fc peterborough united en het schotse falkirk fc daar tekende hij in oktober  tot het einde van het kalenderjaar na nog een proefperiode bij wycombe wanderers ging hij in het amateurvoetbal spelen in het seizoen  speelde hij nog in belgië waar hij woonachtig was voor kfc wuustwezel hij geeft training in het amateurvoetbal\n",
      "\n",
      "Predicted:  Latin  Actual:  Romanian  Text:  haemaphysalis asiatica este o specie de căpușe din genul haemaphysalis familia ixodidae descrisă de supino în anul  conform catalogue of life specia haemaphysalis asiatica nu are subspecii cunoscute\n",
      "\n",
      "Predicted:  English  Actual:  Russian  Text:  townes h t  genera of ichneumonidae part  lycorininae banchinae scolobatinae ctenopelmatinae porizontinae campopleginae — memoirs of the american entomological institute  -\n",
      "\n",
      "Predicted:  English  Actual:  Latin  Text:  turner victor w  betwixt and between the liminal period in rites de passage in the forest of symbols ithacae novi eboraci cornell university press\n",
      "\n",
      "Predicted:  English  Actual:  Dutch  Text:  mighty morphin power rangers the movie de eerste film deze had echter niets te maken met de serie maar speelde zich af in een alternatief universum\n",
      "\n",
      "Predicted:  English  Actual:  French  Text:  en  la commune comptait   habitants en augmentation de   par rapport à  val-doise    france hors mayotte   \n",
      "\n",
      "Predicted:  Swedish  Actual:  Portugese  Text:  farrington d p b stabilitat und pradiktion von aggressivem verhalten stability and prediction of violent behaviour gruppendynamik  -\n",
      "\n",
      "Predicted:  English  Actual:  Latin  Text:  wiseman t p  \"octavia and the phantom genre\" in unwritten rome exeter university of exeter press  cap duodecimumrecensio critica\n",
      "\n",
      "Predicted:  French  Actual:  Portugese  Text:  fim do mundo é um evento futuro hipotético que tem o potencial para prejudicar ou extinguir a humanidade eou qualquer outra forma de vida no planeta terra\n",
      "\n",
      "Predicted:  English  Actual:  Dutch  Text:  hyphydrus schoedli is een keversoort uit de familie waterroofkevers dytiscidae de wetenschappelijke naam van de soort is voor het eerst geldig gepubliceerd in  door wewalka  biström\n",
      "\n",
      "Predicted:  English  Actual:  Chinese  Text:  年：《蔓足亞綱》a monograph of the sub-class cirripedia with figures of all the species the balanidae or sessile cirripedes the verrucidae etc\n",
      "\n",
      "Predicted:  English  Actual:  Hindi  Text:  note multiwalled carbon nanotubes have the highest tensile strength of any material yet measured with labs producing them at a tensile strength of  gpa still well below their theoretical limit of  gpa the first nanotube ropes  mm long whose tensile strength was published in  had a strength of  gpa still well below their theoretical limit the density is different depending on the manufacturing method and the lowest value is  or solid\n",
      "\n",
      "Predicted:  Russian  Actual:  Estonian  Text:  p k pandajev \"мракобесие для простаков или как один диакон искал сатанизм в буддизме теософии и учении живой этики\" diakon kurajevi raamatu \"сатанизм для интеллигенции\" kriitiline analüüs]\n",
      "\n",
      "Predicted:  Chinese  Actual:  Korean  Text:  復次，分別善惡故有六道：善有上、中、下故，有三善道：天、人、阿修羅；惡有上、中、下故，地獄、畜生、餓鬼道。若不爾者，惡有三果報，而善有二果，是事相違；若有六道，於義無違。 問曰： 善法亦有三果：下者爲人，中者爲天，上者涅槃。 答曰： 是中不應說涅槃，但應分別眾生果報住處，涅槃非報故。善法有二種：一者、三十七品能至涅槃，二者、能生後世樂。今但說受身善法，不說至涅槃善法。世間善有三品：上分因緣故，天道果報；中分因緣故，人道果報；下分因緣故，阿修羅道果報。\n",
      "\n",
      "Predicted:  Spanish  Actual:  Portugese  Text:  alessandra stanley do the new york times destaca que no episódio faltou originalidade e os personagens são estereotipados mas louvando o carisma e o talento do elenco[carece de fontes?] david hinckley do daily news disse que o show foi imperfeito e implausível mas \"potencialmente emocionante\"[carece de fontes?] enquanto robert bianco do usa today observou os problemas de tom do elenco mas comentou positivamente sobre o humor e apresentações musicais da série[carece de fontes?] mary mcnamara do los angeles times escreveu que o show tinha um amplo apelo para a chamada do público[carece de fontes?]\n",
      "\n",
      "Predicted:  Swedish  Actual:  Spanish  Text:  como actriz ha trabajado para estudios como jules jordan video evil angel kick ass filly films dark x blacked reality junkies naughty america brazzers girlfriends films digital sin o rd degree\n",
      "\n",
      "Predicted:  English  Actual:  Dutch  Text:  het dier behoort tot het geslacht scytodes de wetenschappelijke naam van de soort werd voor het eerst geldig gepubliceerd in  door rheims  antonio d brescovit\n",
      "\n",
      "Predicted:  English  Actual:  Latin  Text:  moonchild filia lunae infinite dreams infinia somniacan i play with madness possumne ludere cum folliathe evil that men do mala quae homines faciuntseventh son of a seventh son septimus filiusseptimi filiithe prophecy vaticiumthe clairvoyat vatesonly the good die young solum boni moriuntur iuvenes\n",
      "\n",
      "Predicted:  French  Actual:  Dutch  Text:  atkins diabetes revolution postuum verschenen in  als co-auteur staan vermeld mary c vernon md cmc en jacqueline a eberstein rn\n",
      "\n",
      "Predicted:  English  Actual:  Portugese  Text:  blackmore j  the relationship between self-reported delinquency and official convictions amongst adolescent boys british journal of criminology  -\n",
      "\n",
      "Predicted:  English  Actual:  Indonesian  Text:   die krisis der europäischen wissenschaften und die transzentale phänomenologie eine einleitung in die phänomenologische philosophie [ the crisis of european sciences and transcendental phenomenology an introduction to phenomenological philosophy]\n",
      "\n",
      "Predicted:  French  Actual:  Latin  Text:    un \"compilateur\" témoin de son temps  appien dalexandrie et la révolte juive de  ap j-c cahiers de la villa kérylos   - hic legere potes\n",
      "\n",
      "Predicted:  English  Actual:  Turkish  Text:  robson david dorothy pooley ve helena hughes the air pilots manual  radiotelephony ncü baskı cranfield aviation theory centre \n",
      "\n",
      "Predicted:  English  Actual:  Dutch  Text:  armenia and the crusades tenth to twelfth centuries the chronicle of matthew of edessa in het engels vertaald door ara edmond dostourian national association for armenian studies and research \n",
      "\n",
      "Predicted:  English  Actual:  Romanian  Text:  an unnamed race din hp lovecrafts the nameless city - later cthulhu mythos tales have named these the valusians or simply \"serpent people\"\n",
      "\n",
      "Predicted:  English  Actual:  Dutch  Text:  alloformica aberrans is een mierensoort uit de onderfamilie van de schubmieren formicinae de wetenschappelijke naam van de soort is voor het eerst geldig gepubliceerd in  door mayr\n",
      "\n",
      "Predicted:  English  Actual:  Latin  Text:  ichthys graece ἰχθύς iota chi theta ypsilon sigma est verbum graecum pro pisce est etiam acronymum in symbolo ιχθυς fit ex titulo iesu graeco ἰησοῦς χριστός θεοῦ υἱός σωτήρ latine redditur iesus christos dei filius salvator\n",
      "\n",
      "Predicted:  English  Actual:  Dutch  Text:  diphasia scalariformis is een hydroïdpoliep uit de familie sertulariidae de poliep komt uit het geslacht diphasia diphasia scalariformis werd in  voor het eerst wetenschappelijk beschreven door kirkpatrick\n",
      "\n",
      "Predicted:  English  Actual:  Portugese  Text:  farrington d p  predicting persistent young offenders in mcdowell gl and smith js eds juvenile delinquency in the united states and the united kingdom london macmillan pp -\n",
      "\n",
      "Predicted:  English  Actual:  Latin  Text:  halmburger oliver staehler thomas familie hitler im schatten des diktators pellicula a timothy ryback et florian beierl curata monaci oliver halmburger loopfilm gmbh et mogontiaci zdf-history \n",
      "\n",
      "Predicted:  Swedish  Actual:  Indonesian  Text:  karya-karyanya termasuk homo hierarchicus essai sur le système des kasta  dari mandeville ke marx the kejadian dan triumph of ideologi ekonomi  dan essais sur lindividualisme une perspektif anthropologique sur lidéologie moderne  di mana ia kontras dengan holisme individualisme\n",
      "\n",
      "Predicted:  English  Actual:  Dutch  Text:  baffineiland engels baffin island inuktitut ᕿᑭᖅᑖᓗᒃ qikiqtaaluk frans île de baffin is een van de canadese arctische eilanden in het territorium nunavut het is het grootste eiland van canada en het op vier na grootste ter wereld met een oppervlakte van  km² het heeft een bevolking van  inwoners \n",
      "\n",
      "Predicted:  Spanish  Actual:  Portugese  Text:  em três enquetes realizadas pela revista placar nos anos de   e  paulinho foi considerado sempre o melhor lateral-direito da história do internacional\n",
      "\n",
      "Predicted:  English  Actual:  Spanish  Text:  bandyopadhyay s  roychowdhury k  beginning of the continental jurassic in india a paleontological approach museum of northern arizona bulletin the continental jurassic transactions of the continental jurassic symposium october - m morales ed museum of northern arizona -\n",
      "\n",
      "Predicted:  English  Actual:  Latin  Text:  gardner al  order paucituberculata in wilson de  reeder dm eds mammal species of the world third edition the johns hopkins university press baltimore -\n",
      "\n",
      "Predicted:  English  Actual:  Portugese  Text:  pax ferdinand albin  hoffmann käthe  euphorbiaceae-crotonoideae-acalypheae-acalyphinae in engler adolf das pflanzenreich series iv xvi  -\n",
      "\n",
      "Predicted:  English  Actual:  Latin  Text:  allitt john stewart  donizetti—in the light of romanticism and the teaching of johann simon mayr shaftesbury dorset uk element books\n",
      "\n",
      "Predicted:  English  Actual:  Urdu  Text:  guidelines for the screening care and treatment of persons with hepatitis c infection۔ world health organization۔ april ۔ آئی ایس بی این     ۔\n",
      "\n",
      "Predicted:  Swedish  Actual:  Dutch  Text:  snijders paul jacques dadelswärd-fersen und seine zeitschrift akademos in jacques dadelswärd-fersen dandy und poet annäherungen red wolfgang setz hamburg männerschwarmskript verlag - bibliothek rosa winkel   p -\n",
      "\n",
      "Predicted:  French  Actual:  Latin  Text:  gubernatio canadensis défense nationale distinctions honorifiques et reconnaissance pour les hommes et les femmes des forces canadiennes  francice anglice\n",
      "\n",
      "Predicted:  English  Actual:  Latin  Text:  lock helen  \"a mans story is his gris-gris\" ishmael reeds neo-hoodoo aesthetic and the african-american tradition south central review  – jstor \n",
      "\n",
      "Predicted:  English  Actual:  French  Text:  forster  platnick   a review of the austral spider family orsolobidae arachnida araneae with notes on the superfamily dysderoidea bulletin of the american museum of natural history no  p - texte intégral\n",
      "\n",
      "Predicted:  French  Actual:  Latin  Text:  tf sive télévision française latine fere televisio francica vel televisio francogallica vel televisio gallica est canalis televisionis franciae\n",
      "\n",
      "Predicted:  Spanish  Actual:  Estonian  Text:  marcus gavius apicius ekr-  pkr de re coquinaria cookery and dining in imperial rome vehling joseph dommers – [translator] starr frederick – [commentator] []\n",
      "\n",
      "Predicted:  French  Actual:  Dutch  Text:  in moulins zijn een aantal onderwijsinstellingen gevestigd zoals het sciences po lille of institut détudes politiques de lille en de faculteit rechten van de université lille ii\n",
      "\n",
      "Predicted:  English  Actual:  Pushto  Text:  military procurement refers to common regulations and requirements for a ship or a detached unit to requisistion and draw on a bases facilies housing pay and rations for detached personnel supplies most commonly food stocks or materials and vehicles by the service running a primary base eg army units detached to or staging through an air base a vessel calling at a port near an army or air base an army unit drawing supplies from a naval base\n",
      "\n",
      "Predicted:  English  Actual:  Romanian  Text:  ridgeway george l  merchants of peace twenty years of business diplomacy through the international chamber of commerce - columbia university press pp there is a  revised edition\n",
      "\n",
      "Predicted:  French  Actual:  Japanese  Text:  年月日法は、過半数得票者 prime à la majorité の党派に極めて有利な比例代表名簿式投票制 scrutin de liste à la proportionnelle を定めた。年月と年の選挙はこの方式に従って執り行われたが、年の選挙で小選挙区二回投票制（scrutin majoritaire uninominal à deux tours）が復活した。\n",
      "\n",
      "Predicted:  English  Actual:  Dutch  Text:  het dier behoort tot het geslacht euryopis de wetenschappelijke naam van de soort werd voor het eerst geldig gepubliceerd in  door lodovico di caporiacco\n",
      "\n",
      "Predicted:  English  Actual:  Romanian  Text:  ke chung kim and herbert w ludwig the family classification of the anoplura systematic entomology volume  issue  july  -\n",
      "\n",
      "Predicted:  English  Actual:  Portugese  Text:  daley era esperado para enfrentar jay hieron no affliction trilogy mas a luta foi cancelada devido à falência do affliction entertainment\n",
      "\n",
      "Predicted:  English  Actual:  Pushto  Text:  it is a deciduous tree growing to  m tall with a trunk up to  m diameter the leaves are alternate to subopposite in arrangement oval – cm long and – cm broad with a – cm petiole the fruit is drupe-like - cm long and - cm broad blackish with five longitudinal ridges\n",
      "\n",
      "Predicted:  English  Actual:  Dutch  Text:  litophyton sanderi is een zachte koraalsoort uit de familie alcyoniidae de koraalsoort komt uit het geslacht litophyton litophyton sanderi werd in  voor het eerst wetenschappelijk beschreven door may\n",
      "\n",
      "Predicted:  English  Actual:  Thai  Text:  our new torpedo bombers to batter the axis september  popular science illustration at bottom of page  shows how whiteheads so called \"secret unit\" ie the pendulum mechanism kept a torpedo level after entering the water which made the self-propelled torpedo possible\n",
      "\n",
      "Predicted:  Latin  Actual:  Spanish  Text:  - lucha activa contra el movimiento revolucionario del personal zarista y miembros de \"gobiernos contrarrevolucionarios\" durante la guerra civil igual que -\n",
      "\n",
      "Predicted:  Persian  Actual:  Pushto  Text:  عباس  یا ستر عباس په فارسی عباس بزرگ د صفوی کورنی څخه یو مشهور ایرانی شاه پاچا وو چی د  کال څخه تر  کال پورې یی په ایران کی حکومت کاوه عباس د خراسان د ولایت یو والی حکمران وو چی په  کال کی د کودتاه په مرسته د ایران شاه پاچا شو\n",
      "\n",
      "Predicted:  English  Actual:  Latin  Text:  yi gwang-su coreanice 이광수 李光洙 natus die  martii  mortuus die  octobris  fuit scriptor fabulator et poeta coreanus pseudonyma eius erant chunwon 춘원 春園 goju 고주 孤舟 jangbaiksanin 장백산인 長白山人\n",
      "\n",
      "Predicted:  English  Actual:  Latin  Text:   gulielmus m gallagher flint michigania journal pro photographemate ex-governor adlai e stevenson quod adlai stevenson calceo perforato exhibet\n",
      "\n",
      "Predicted:  English  Actual:  Persian  Text:  awarding of the kenneth o may prize to ivor grattan-guinness and rhada charan gupta on the occasion of the rd international congress of history of science and technology\n",
      "\n",
      "Predicted:  Portugese  Actual:  Japanese  Text:  年月日 - lmhz（旧mhz帯・cdma banclass ）帯エリアによる音声・通信サービスの停波によりそれ以降はnmhz（新mhz帯・cdma bandclass  subclass ）帯エリアおよびghz（cdma bandclass ）帯エリアの各音声・通信サービスで利用する事となる。\n",
      "\n",
      "Predicted:  Persian  Actual:  Pushto  Text:  تفتیش چی په انگرزی کی ورته auditing وایی  د ایزو د معیار د اخستلو او د اخستل شوی سند د تصدیق په خاطر تفتیش صورت ونیسی دا تفتیش داخلی او باندنی وی باندنی تفتیش یا external audit د باندنی موسسی یا سازمان لخوا باید ترسره شی او داخلی تفتیش یا internal audit باید د داخلی کارمندانو لخوا ترسره شی\n",
      "\n",
      "Predicted:  English  Actual:  Dutch  Text:  hendrick de keyser i utrecht  mei  - amsterdam  mei  bijgenaamd \"de oude\" was een amsterdamse architect en beeldhouwer hendrick de keyser bouwde in een typische zelfs amsterdamse renaissancestijl\n",
      "\n",
      "Predicted:  English  Actual:  Pushto  Text:  mathematical economic is an approach analysis in which the economists make use of mathematical symbols in the statment of problem and also draw upon knowen mathematical theorems to aid in reasoning khanzaman zaheer\n",
      "\n",
      "Predicted:  English  Actual:  Estonian  Text:  dominical on kirjeldatud  liiki kahepaikseid maailmas kriitiliselt ohustatud leptodactylus fallax ohustatud eleutherodactylus amplinympha eleutherodactylus johnstonei ja eleutherodactylus martinicensis\n",
      "\n",
      "Predicted:  Dutch  Actual:  Portugese  Text:  em inglês world conservation monitoring centre  gilbertiodendron klainei  iucn red list of threatened species dados de  de julho de \n",
      "\n",
      "Predicted:  English  Actual:  Turkish  Text:  kaynak statistics canada  census profile of federal electoral districts  representation order language mobility and migration and immigration and citizenship ottawa  pp   \n",
      "\n",
      "Predicted:  French  Actual:  Dutch  Text:  farges-lès-chalon - farges-lès-mâcon - le fay - flacey-en-bresse - flagy - fleurville - fleury-la-montagne - fley - fontaines - fontenay - fragnes - frangy-en-bresse - la frette - fretterans - frontenard - frontenaud - fuissé\n",
      "\n",
      "Predicted:  French  Actual:  Dutch  Text:  palinges - palleau - paray-le-monial - paris-lhôpital - passy - péronne - perrecy-les-forges - perreuil - perrigny-sur-loire - la petite-verrière - pierreclos - pierre-de-bresse - le planois - plottes - poisson - pontoux - pouilloux - pourlans - pressy-sous-dondin - préty - prissé - prizy - pruzilly - le puley\n",
      "\n",
      "Predicted:  English  Actual:  Spanish  Text:  moyle p y j cech fishes an introduction to ichthyology a edición upper saddle river nueva jersey estados unidos prentice-hall año \n",
      "\n",
      "Predicted:  Urdu  Actual:  Arabic  Text:  الكوخردى محمد بن يوسف كُوخِرد حَاضِرَة اِسلامِيةَ عَلي ضِفافِ نَهر مِهران kookherd an islamic district on the bank of mehran river الطبعة الثالثة دبى سنة  للميلاد\n",
      "\n",
      "Predicted:  English  Actual:  Turkish  Text:  qendër tomin idari birimi bahute brezhdan cetush dohoshisht pilafe pollozhan rrashnapoja selane shimçan staravec tomin ushtelenxa zdojan ve zimur köylerinden oluşmaktadır\n",
      "\n",
      "Predicted:  Spanish  Actual:  English  Text:  \"inclusive democracy\" entry in routledge encyclopedia of international political economy ed by rj barry jones routledge  pp – retrieved  january \n",
      "\n",
      "Predicted:  English  Actual:  Dutch  Text:  design your universe is het vierde studioalbum van de nederlandse metalband epica het album werd door de platenmaatschappij nuclear blast op  oktober  uitgebracht epica presenteerde het album op  oktober met een show in paradiso in amsterdam\n",
      "\n",
      "Predicted:  Portugese  Actual:  Spanish  Text:  no se limitaba a los actos antisoviéticos por la \"solidaridad internacional de los trabajadores\" cualquier otro \"estado obrero\" estaba protegido por este artículo\n",
      "\n",
      "Predicted:  English  Actual:  Latin  Text:  anthony tuck \"edmund [edmund of langley first duke of york]\" in oxford dictionary of national biography edd h c g matthew brian harrison oxonii oxford university press  situs venalis\n",
      "\n",
      "Predicted:  English  Actual:  Pushto  Text:  military justice as in the uniform code of military justice most nations have a separate code of law which regulates both certain activities allowed only in war as well as provides a code of law applicable only to a soldier in war or in uniform during peacetime\n",
      "\n",
      "Predicted:  English  Actual:  Chinese  Text:  goldzwig steven r and george n dionisopoulos eds in a perilous hour the public address of john f kennedy text and analysis of key speeches \n",
      "\n",
      "Predicted:  Spanish  Actual:  Dutch  Text:  marino anesa dizionario della musica italian per banda primera edizione  vols -  p vol [] biografie dei compositori e catalogo delle opere dal  al  bergamo  biblioteca civica \"angelo mai\" -  -  s vol [] biografie dei compositori e catalogo delle opere dal  ad oggi bergamo  biblioteca civica \"angelo mai\" -  -  s\n",
      "\n",
      "Predicted:  English  Actual:  Indonesian  Text:  inggris a textual commentary on the gospel of matthew detailed text-critical discussion of the  most important variants of the greek text pdf  halaman\n",
      "\n",
      "Predicted:  Spanish  Actual:  Portugese  Text:  muerte en buenos aires é um filme argentino do género policial realizado por natalia meta e estrelado por demián bichir chino darín mónica antonópulos carlos casella hugo arana jorgelina aruzzi emilio disi fabián arenillas humberto tortonese gino renni martín wullich e luisa kuliok o filme estreou na argentina em  de maio de \n",
      "\n",
      "Predicted:  Swedish  Actual:  Dutch  Text:  fisksätra is een plaats in de gemeente nacka in het landschap södermanland en de provincie stockholms län in zweden de plaats heeft  inwoners  en een oppervlakte van  hectare\n",
      "\n",
      "Predicted:  English  Actual:  Dutch  Text:  de foto van de albumhoes werd genomen in de buurt van de kantoren van macola records op santa monica boulevard hollywood tussen de straten vine en el centro\n",
      "\n",
      "Predicted:  English  Actual:  Portugese  Text:  farrington d p c the development of offending and antisocial behaviour from childhood key findings from the cambridge study in delinquent development journal of child psychology and psychiatry  -\n",
      "\n",
      "Predicted:  English  Actual:  Dutch  Text:  de cockpit biedt plaats aan  vlieger en  electronic warfare officer deze laatste is uitgerust met touch-screen lcds voor de missiesystemen een tactisch kleuren-lcd-scherm en twee multipurpose lcd-schermen alle schermen bezitten de tactical aircraft moving map capaciteit tammac het toestel is uitgerust met hands-on throttle and stick hotas en volledige digitale fly-by-wire bediening\n",
      "\n",
      "Predicted:  French  Actual:  Spanish  Text:  el bitardo es un animal legendario que los bitardos veneran son miembros de la orden del venerado bitardo o ordre du vénéré bitard loué soit-il  una hermandad de entusiastas con sede en poitiers francia que mantienen ciertas tradiciones como ser el rally de los bitardos y cierta vestimenta\n",
      "\n",
      "Predicted:  Persian  Actual:  Pushto  Text:  د کیفیت تضمین کوونکی دی د عایداتو د زیاتوالی سبب کرځی د ښه اعتماد د پیدا کوولو منبه بلل کیږی ډیر مفید او مؤثر عملیات برابروی د مشتریانو رضایت زیاتوی بازار یا مارکیت ته کی د ډیری ودی لامل کیږی د کثافاتو یا اضافه مصرف څخه مخنیوی کوی د معیاری کولو یو معمول او اسانه وسیله ده\n",
      "\n"
     ]
    }
   ],
   "source": [
    "for i in range(len(y_predict)):\n",
    "    if y_test.iloc[i] != y_predict[i]:\n",
    "        print('Predicted: ', y_predict[i], ' Actual: ', y_test.iloc[i], ' Text: ', x_test_raw_2.iloc[i])\n",
    "        print('')"
   ]
  },
  {
   "cell_type": "code",
   "execution_count": null,
   "metadata": {},
   "outputs": [],
   "source": [
    "plot_Confusion_Matrix(y_test, y_predict, \"Greens\") "
   ]
  },
  {
   "cell_type": "code",
   "execution_count": null,
   "metadata": {},
   "outputs": [],
   "source": [
    "#Plot PCA\n",
    "print('========')\n",
    "print('PCA and Explained Variance:') \n",
    "plotPCA(X_train, X_test,y_test, languages) \n",
    "print('========')\n"
   ]
  },
  {
   "cell_type": "code",
   "execution_count": 151,
   "metadata": {},
   "outputs": [],
   "source": [
    "unigrams_plot = {'150':0.937,\n",
    "'250': 0.959,\n",
    "'500': 0.96022,\n",
    "'1000':0.95522,\n",
    "'2000':0.94659,\n",
    "'4000': 0.93409,\n",
    "'6816': 0.9245}"
   ]
  },
  {
   "cell_type": "code",
   "execution_count": 2,
   "metadata": {},
   "outputs": [],
   "source": [
    "unigrams_plot_coverage = {'150':0.8560,\n",
    "'250': 0.9243,\n",
    "'500': 0.9603,\n",
    "'1000': 0.98085,\n",
    "'2000':0.9928,\n",
    "'4000': 0.9986,\n",
    "'6816': 0.9997}"
   ]
  },
  {
   "cell_type": "code",
   "execution_count": null,
   "metadata": {},
   "outputs": [],
   "source": [
    "# plot an histogram with unigrams_plot with the y axis from 0.8 to 1\n",
    "plt.bar(unigrams_plot_coverage.keys(), unigrams_plot_coverage.values(), color='b')\n",
    "plt.ylim(0.8, 1)\n",
    "plt.show()\n"
   ]
  },
  {
   "cell_type": "code",
   "execution_count": null,
   "metadata": {},
   "outputs": [],
   "source": [
    "# plot an histogram with unigrams_plot with the y axis from 0.8 to 1\n",
    "plt.bar(unigrams_plot.keys(), unigrams_plot.values(), color='g')\n",
    "plt.ylim(0.9, 1)\n",
    "plt.show()\n"
   ]
  }
 ],
 "metadata": {
  "kernelspec": {
   "display_name": "Python 3",
   "language": "python",
   "name": "python3"
  },
  "language_info": {
   "codemirror_mode": {
    "name": "ipython",
    "version": 3
   },
   "file_extension": ".py",
   "mimetype": "text/x-python",
   "name": "python",
   "nbconvert_exporter": "python",
   "pygments_lexer": "ipython3",
   "version": "3.9.12"
  },
  "orig_nbformat": 4,
  "vscode": {
   "interpreter": {
    "hash": "c63c415ab99ec436fcb8ee002cc8458e39a88baa623caa091ec0434b54d2be80"
   }
  }
 },
 "nbformat": 4,
 "nbformat_minor": 2
}
